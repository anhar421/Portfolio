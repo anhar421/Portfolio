{
 "cells": [
  {
   "cell_type": "markdown",
   "metadata": {},
   "source": [
    "### Milestone 2: Flat File Cleaning/Formatting"
   ]
  },
  {
   "cell_type": "markdown",
   "metadata": {},
   "source": [
    "**Perform at least 5 data transformation and/or cleansing steps to your flat file data. For example:**\n",
    "\n",
    "- Replace Headers\n",
    "- Format data into a more readable format\n",
    "- Identify outliers and bad data\n",
    "- Find duplicates\n",
    "- Fix casing or inconsistent values\n",
    "- Conduct Fuzzy Matching"
   ]
  },
  {
   "cell_type": "markdown",
   "metadata": {},
   "source": [
    "This dataset lists the species held in Association of Zoo and Aquarium facilities and their median age ranges. For the purposes of this project, I will assume that this is an exhaustive list of all species in AZA facilities. (There are many species not on this list that are in AZA facilities, but that should not affect the exploratory nature of this project.) The end goal of the project is to compare endangered status of different species to their documented appearances in the wild via the iNaturalist app as well as to their median life expectancy (MLE) in human care facilities. With that in mind, I only want to remove animals from this list which do not have sufficient data for MLE. Some species have MLE data for each gender of the species, some only have data for one gender, and some have a combined MLE for both genders."
   ]
  },
  {
   "cell_type": "code",
   "execution_count": 1,
   "metadata": {},
   "outputs": [],
   "source": [
    "import pandas as pd\n",
    "import numpy as np\n",
    "import matplotlib.pyplot as plt\n",
    "\n",
    "%matplotlib inline"
   ]
  },
  {
   "cell_type": "code",
   "execution_count": 2,
   "metadata": {},
   "outputs": [
    {
     "data": {
      "text/html": [
       "<div>\n",
       "<style scoped>\n",
       "    .dataframe tbody tr th:only-of-type {\n",
       "        vertical-align: middle;\n",
       "    }\n",
       "\n",
       "    .dataframe tbody tr th {\n",
       "        vertical-align: top;\n",
       "    }\n",
       "\n",
       "    .dataframe thead th {\n",
       "        text-align: right;\n",
       "    }\n",
       "</style>\n",
       "<table border=\"1\" class=\"dataframe\">\n",
       "  <thead>\n",
       "    <tr style=\"text-align: right;\">\n",
       "      <th></th>\n",
       "      <th>Common Name</th>\n",
       "      <th>Scientific Name</th>\n",
       "      <th>MLE Males &amp;\\rFemales\\rCombined</th>\n",
       "      <th>MLE Males\\r(Years)</th>\n",
       "      <th>MLE Females\\r(Years)</th>\n",
       "    </tr>\n",
       "  </thead>\n",
       "  <tbody>\n",
       "    <tr>\n",
       "      <th>0</th>\n",
       "      <td>Aardvark</td>\n",
       "      <td>Orycteropus afer</td>\n",
       "      <td>-</td>\n",
       "      <td>Data deficient</td>\n",
       "      <td>11.5</td>\n",
       "    </tr>\n",
       "    <tr>\n",
       "      <th>1</th>\n",
       "      <td>Addax</td>\n",
       "      <td>Addax nasomaculatus</td>\n",
       "      <td>-</td>\n",
       "      <td>10.7</td>\n",
       "      <td>13.9</td>\n",
       "    </tr>\n",
       "    <tr>\n",
       "      <th>2</th>\n",
       "      <td>Agouti, Brazilian</td>\n",
       "      <td>Dasyprocta leporina</td>\n",
       "      <td>8.2</td>\n",
       "      <td>-</td>\n",
       "      <td>-</td>\n",
       "    </tr>\n",
       "    <tr>\n",
       "      <th>3</th>\n",
       "      <td>Alligator, Chinese</td>\n",
       "      <td>Alligator sinensis</td>\n",
       "      <td>25</td>\n",
       "      <td>-</td>\n",
       "      <td>-</td>\n",
       "    </tr>\n",
       "    <tr>\n",
       "      <th>4</th>\n",
       "      <td>Anoa, Lowland</td>\n",
       "      <td>Bubalus depressicornis</td>\n",
       "      <td>17.4</td>\n",
       "      <td>-</td>\n",
       "      <td>-</td>\n",
       "    </tr>\n",
       "  </tbody>\n",
       "</table>\n",
       "</div>"
      ],
      "text/plain": [
       "          Common Name         Scientific Name MLE Males &\\rFemales\\rCombined  \\\n",
       "0            Aardvark        Orycteropus afer                              -   \n",
       "1               Addax     Addax nasomaculatus                              -   \n",
       "2   Agouti, Brazilian     Dasyprocta leporina                            8.2   \n",
       "3  Alligator, Chinese      Alligator sinensis                             25   \n",
       "4       Anoa, Lowland  Bubalus depressicornis                           17.4   \n",
       "\n",
       "  MLE Males\\r(Years) MLE Females\\r(Years)  \n",
       "0     Data deficient                 11.5  \n",
       "1               10.7                 13.9  \n",
       "2                  -                    -  \n",
       "3                  -                    -  \n",
       "4                  -                    -  "
      ]
     },
     "execution_count": 2,
     "metadata": {},
     "output_type": "execute_result"
    }
   ],
   "source": [
    "# The first thing I want to do is extract the information from my PDF into a CSV using Tabula to make it easier to use.\n",
    "mle_data = pd.read_csv('aza_mle.csv')\n",
    "mle_data.head()"
   ]
  },
  {
   "cell_type": "code",
   "execution_count": 3,
   "metadata": {},
   "outputs": [
    {
     "data": {
      "text/html": [
       "<div>\n",
       "<style scoped>\n",
       "    .dataframe tbody tr th:only-of-type {\n",
       "        vertical-align: middle;\n",
       "    }\n",
       "\n",
       "    .dataframe tbody tr th {\n",
       "        vertical-align: top;\n",
       "    }\n",
       "\n",
       "    .dataframe thead th {\n",
       "        text-align: right;\n",
       "    }\n",
       "</style>\n",
       "<table border=\"1\" class=\"dataframe\">\n",
       "  <thead>\n",
       "    <tr style=\"text-align: right;\">\n",
       "      <th></th>\n",
       "      <th>Common Name</th>\n",
       "      <th>Scientific Name</th>\n",
       "      <th>MLE Males &amp;\\rFemales\\rCombined</th>\n",
       "      <th>MLE Males\\r(Years)</th>\n",
       "      <th>MLE Females\\r(Years)</th>\n",
       "    </tr>\n",
       "  </thead>\n",
       "  <tbody>\n",
       "    <tr>\n",
       "      <th>0</th>\n",
       "      <td>Aardvark</td>\n",
       "      <td>Orycteropus afer</td>\n",
       "      <td>-</td>\n",
       "      <td>NaN</td>\n",
       "      <td>11.5</td>\n",
       "    </tr>\n",
       "    <tr>\n",
       "      <th>1</th>\n",
       "      <td>Addax</td>\n",
       "      <td>Addax nasomaculatus</td>\n",
       "      <td>-</td>\n",
       "      <td>10.7</td>\n",
       "      <td>13.9</td>\n",
       "    </tr>\n",
       "    <tr>\n",
       "      <th>2</th>\n",
       "      <td>Agouti, Brazilian</td>\n",
       "      <td>Dasyprocta leporina</td>\n",
       "      <td>8.2</td>\n",
       "      <td>-</td>\n",
       "      <td>-</td>\n",
       "    </tr>\n",
       "    <tr>\n",
       "      <th>3</th>\n",
       "      <td>Alligator, Chinese</td>\n",
       "      <td>Alligator sinensis</td>\n",
       "      <td>25</td>\n",
       "      <td>-</td>\n",
       "      <td>-</td>\n",
       "    </tr>\n",
       "    <tr>\n",
       "      <th>4</th>\n",
       "      <td>Anoa, Lowland</td>\n",
       "      <td>Bubalus depressicornis</td>\n",
       "      <td>17.4</td>\n",
       "      <td>-</td>\n",
       "      <td>-</td>\n",
       "    </tr>\n",
       "  </tbody>\n",
       "</table>\n",
       "</div>"
      ],
      "text/plain": [
       "          Common Name         Scientific Name MLE Males &\\rFemales\\rCombined  \\\n",
       "0            Aardvark        Orycteropus afer                              -   \n",
       "1               Addax     Addax nasomaculatus                              -   \n",
       "2   Agouti, Brazilian     Dasyprocta leporina                            8.2   \n",
       "3  Alligator, Chinese      Alligator sinensis                             25   \n",
       "4       Anoa, Lowland  Bubalus depressicornis                           17.4   \n",
       "\n",
       "  MLE Males\\r(Years) MLE Females\\r(Years)  \n",
       "0                NaN                 11.5  \n",
       "1               10.7                 13.9  \n",
       "2                  -                    -  \n",
       "3                  -                    -  \n",
       "4                  -                    -  "
      ]
     },
     "execution_count": 3,
     "metadata": {},
     "output_type": "execute_result"
    }
   ],
   "source": [
    "# I want to replace the string 'Data deficient' with NaN to make finding the missing data easier. I will leave the dashes in the\n",
    "# columns that don't have MLE because that data is not missing, it is just not necessary because the MLE is represented in a \n",
    "# different column.\n",
    "mle_data = mle_data.replace('Data deficient', np.nan)\n",
    "mle_data.head()"
   ]
  },
  {
   "cell_type": "code",
   "execution_count": 4,
   "metadata": {},
   "outputs": [
    {
     "data": {
      "text/html": [
       "<div>\n",
       "<style scoped>\n",
       "    .dataframe tbody tr th:only-of-type {\n",
       "        vertical-align: middle;\n",
       "    }\n",
       "\n",
       "    .dataframe tbody tr th {\n",
       "        vertical-align: top;\n",
       "    }\n",
       "\n",
       "    .dataframe thead th {\n",
       "        text-align: right;\n",
       "    }\n",
       "</style>\n",
       "<table border=\"1\" class=\"dataframe\">\n",
       "  <thead>\n",
       "    <tr style=\"text-align: right;\">\n",
       "      <th></th>\n",
       "      <th>common_name</th>\n",
       "      <th>scientific_name</th>\n",
       "      <th>MLE_combined</th>\n",
       "      <th>MLE_male</th>\n",
       "      <th>MLE_female</th>\n",
       "    </tr>\n",
       "  </thead>\n",
       "  <tbody>\n",
       "    <tr>\n",
       "      <th>0</th>\n",
       "      <td>Aardvark</td>\n",
       "      <td>Orycteropus afer</td>\n",
       "      <td>-</td>\n",
       "      <td>NaN</td>\n",
       "      <td>11.5</td>\n",
       "    </tr>\n",
       "    <tr>\n",
       "      <th>1</th>\n",
       "      <td>Addax</td>\n",
       "      <td>Addax nasomaculatus</td>\n",
       "      <td>-</td>\n",
       "      <td>10.7</td>\n",
       "      <td>13.9</td>\n",
       "    </tr>\n",
       "    <tr>\n",
       "      <th>2</th>\n",
       "      <td>Agouti, Brazilian</td>\n",
       "      <td>Dasyprocta leporina</td>\n",
       "      <td>8.2</td>\n",
       "      <td>-</td>\n",
       "      <td>-</td>\n",
       "    </tr>\n",
       "    <tr>\n",
       "      <th>3</th>\n",
       "      <td>Alligator, Chinese</td>\n",
       "      <td>Alligator sinensis</td>\n",
       "      <td>25</td>\n",
       "      <td>-</td>\n",
       "      <td>-</td>\n",
       "    </tr>\n",
       "    <tr>\n",
       "      <th>4</th>\n",
       "      <td>Anoa, Lowland</td>\n",
       "      <td>Bubalus depressicornis</td>\n",
       "      <td>17.4</td>\n",
       "      <td>-</td>\n",
       "      <td>-</td>\n",
       "    </tr>\n",
       "  </tbody>\n",
       "</table>\n",
       "</div>"
      ],
      "text/plain": [
       "          common_name         scientific_name MLE_combined MLE_male MLE_female\n",
       "0            Aardvark        Orycteropus afer            -      NaN       11.5\n",
       "1               Addax     Addax nasomaculatus            -     10.7       13.9\n",
       "2   Agouti, Brazilian     Dasyprocta leporina          8.2        -          -\n",
       "3  Alligator, Chinese      Alligator sinensis           25        -          -\n",
       "4       Anoa, Lowland  Bubalus depressicornis         17.4        -          -"
      ]
     },
     "execution_count": 4,
     "metadata": {},
     "output_type": "execute_result"
    }
   ],
   "source": [
    "# When perusing the PDF, I did see that there were some duplicates so I do need to get rid of those. Before I do that, I need to\n",
    "# change the headers so that they are able to be called in the code easier.\n",
    "mle_data.columns = ['common_name', 'scientific_name', 'MLE_combined', 'MLE_male', 'MLE_female']\n",
    "mle_data.head()"
   ]
  },
  {
   "cell_type": "code",
   "execution_count": 5,
   "metadata": {},
   "outputs": [
    {
     "name": "stdout",
     "output_type": "stream",
     "text": [
      "Scientific Name is duplicated - True\n"
     ]
    }
   ],
   "source": [
    "# Now I can confirm if there are duplicates. I will use the scientific name to confirm since common names can vary even among\n",
    "# the same species. Then I will use drop_duplicates to drop the duplicate rows based on duplicated scientific names. \n",
    "print(('Scientific Name is duplicated - {}').format(any(mle_data.duplicated('scientific_name'))))"
   ]
  },
  {
   "cell_type": "code",
   "execution_count": 6,
   "metadata": {},
   "outputs": [
    {
     "name": "stdout",
     "output_type": "stream",
     "text": [
      "(489, 5)\n"
     ]
    }
   ],
   "source": [
    "# I also want to save the original size so that I can see the change after duplicates are removed.\n",
    "orig_size = mle_data.shape\n",
    "print(orig_size)"
   ]
  },
  {
   "cell_type": "markdown",
   "metadata": {},
   "source": [
    "It dropped 16 rows, which was actually more than I was expecting. I looked through the CSV on Excel to see what happened.\n",
    "Turns out because of the nature of the PDF, there were 14 rows (besides the first header) that listed the header labels.\n",
    "There were 3 animals that were each listed twice. So, there was a total of 20 rows that were \"duplicates\", but the code saved\n",
    "the first instance of each of those four sets so it removed 16 rows. I did also notice that the animals that were duplicated had different MLE data on each of their rows. What I should do instead of deleting the duplicates is merge the information between the two rows for each animal instead. So, I went back and commented out the original code."
   ]
  },
  {
   "cell_type": "code",
   "execution_count": 8,
   "metadata": {},
   "outputs": [
    {
     "name": "stdout",
     "output_type": "stream",
     "text": [
      "                            common_name          scientific_name  \\\n",
      "33                          Common Name          Scientific Name   \n",
      "66                          Common Name          Scientific Name   \n",
      "100                         Common Name          Scientific Name   \n",
      "134                         Common Name          Scientific Name   \n",
      "135   Frog, Panamanian Golden (Ahogado)          Atelopus zeteki   \n",
      "136      Frog, Panamanian Golden (Sora)          Atelopus zeteki   \n",
      "168                         Common Name          Scientific Name   \n",
      "202                         Common Name          Scientific Name   \n",
      "236                         Common Name          Scientific Name   \n",
      "270                         Common Name          Scientific Name   \n",
      "294             Partridge, Crested Wood         Rollulus rouloul   \n",
      "304                         Common Name          Scientific Name   \n",
      "337                         Common Name          Scientific Name   \n",
      "365  Spider, Sapphire Ornamental Spider  Poecilotheria metallica   \n",
      "366  Spider, Sapphire Ornamental Spider  Poecilotheria metallica   \n",
      "371                         Common Name          Scientific Name   \n",
      "405                         Common Name          Scientific Name   \n",
      "439                         Common Name          Scientific Name   \n",
      "473                         Common Name          Scientific Name   \n",
      "485             Wood-partridge, Crested         Rollulus rouloul   \n",
      "\n",
      "                       MLE_combined            MLE_male            MLE_female  \n",
      "33   MLE Males &\\rFemales\\rCombined  MLE Males\\r(Years)  MLE Females\\r(Years)  \n",
      "66   MLE Males &\\rFemales\\rCombined  MLE Males\\r(Years)  MLE Females\\r(Years)  \n",
      "100  MLE Males &\\rFemales\\rCombined  MLE Males\\r(Years)  MLE Females\\r(Years)  \n",
      "134  MLE Males &\\rFemales\\rCombined  MLE Males\\r(Years)  MLE Females\\r(Years)  \n",
      "135                             7.5                   -                     -  \n",
      "136                               -                 5.1                   4.2  \n",
      "168  MLE Males &\\rFemales\\rCombined  MLE Males\\r(Years)  MLE Females\\r(Years)  \n",
      "202  MLE Males &\\rFemales\\rCombined  MLE Males\\r(Years)  MLE Females\\r(Years)  \n",
      "236  MLE Males &\\rFemales\\rCombined  MLE Males\\r(Years)  MLE Females\\r(Years)  \n",
      "270  MLE Males &\\rFemales\\rCombined  MLE Males\\r(Years)  MLE Females\\r(Years)  \n",
      "294                             4.9                   -                     -  \n",
      "304  MLE Males &\\rFemales\\rCombined  MLE Males\\r(Years)  MLE Females\\r(Years)  \n",
      "337  MLE Males &\\rFemales\\rCombined  MLE Males\\r(Years)  MLE Females\\r(Years)  \n",
      "365                             NaN                 NaN                   NaN  \n",
      "366                            13.1                   -                     -  \n",
      "371  MLE Males &\\rFemales\\rCombined  MLE Males\\r(Years)  MLE Females\\r(Years)  \n",
      "405  MLE Males &\\rFemales\\rCombined  MLE Males\\r(Years)  MLE Females\\r(Years)  \n",
      "439  MLE Males &\\rFemales\\rCombined  MLE Males\\r(Years)  MLE Females\\r(Years)  \n",
      "473  MLE Males &\\rFemales\\rCombined  MLE Males\\r(Years)  MLE Females\\r(Years)  \n",
      "485                             4.8                   -                     -  \n"
     ]
    }
   ],
   "source": [
    "# I used duplicated to find and print all the duplicated rows so I know which ones I can remove entirely and which need to be merged.\n",
    "duplicates = mle_data[mle_data.duplicated(['scientific_name'], keep=False)]\n",
    "print(duplicates)"
   ]
  },
  {
   "cell_type": "code",
   "execution_count": 9,
   "metadata": {},
   "outputs": [
    {
     "name": "stdout",
     "output_type": "stream",
     "text": [
      "                            common_name          scientific_name MLE_combined  \\\n",
      "135   Frog, Panamanian Golden (Ahogado)          Atelopus zeteki          7.5   \n",
      "136      Frog, Panamanian Golden (Sora)          Atelopus zeteki            -   \n",
      "294             Partridge, Crested Wood         Rollulus rouloul          4.9   \n",
      "365  Spider, Sapphire Ornamental Spider  Poecilotheria metallica          NaN   \n",
      "366  Spider, Sapphire Ornamental Spider  Poecilotheria metallica         13.1   \n",
      "485             Wood-partridge, Crested         Rollulus rouloul          4.8   \n",
      "\n",
      "    MLE_male MLE_female  \n",
      "135        -          -  \n",
      "136      5.1        4.2  \n",
      "294        -          -  \n",
      "365      NaN        NaN  \n",
      "366        -          -  \n",
      "485        -          -  \n"
     ]
    }
   ],
   "source": [
    "# I deleted the rows with the header titles. A closer inspection of the Panamanian Golden Frog shows that the duplicate rows are\n",
    "# actually two subspecies so I will leave them there. I will merge the wood partridge and the spider rows together.\n",
    "mle_data_smol = mle_data[mle_data.common_name != 'Common Name']\n",
    "duplicate_spec = mle_data_smol[mle_data_smol.duplicated(['scientific_name'], keep=False)]\n",
    "print(duplicate_spec)"
   ]
  },
  {
   "cell_type": "code",
   "execution_count": 11,
   "metadata": {},
   "outputs": [
    {
     "name": "stdout",
     "output_type": "stream",
     "text": [
      "                           common_name   scientific_name MLE_combined  \\\n",
      "131  Frog, Panamanian Golden (Ahogado)   Atelopus zeteki          7.5   \n",
      "132     Frog, Panamanian Golden (Sora)   Atelopus zeteki            -   \n",
      "286            Partridge, Crested Wood  Rollulus rouloul          4.9   \n",
      "469            Wood-partridge, Crested  Rollulus rouloul          4.8   \n",
      "\n",
      "    MLE_male MLE_female  \n",
      "131        -          -  \n",
      "132      5.1        4.2  \n",
      "286        -          -  \n",
      "469        -          -  \n"
     ]
    }
   ],
   "source": [
    "# Using groupby, I was able to merge the spider rows because they have the same common name. The common name difference between\n",
    "# the two rows of the wood-partridge seems to be a mistype of some kind. I'm not sure which MLE is the most recent but since \n",
    "# they are so close I will just delete row 469.\n",
    "mle_sort = mle_data_smol.groupby(['common_name', 'scientific_name'], as_index=False).agg('last')\n",
    "duplicates = mle_sort[mle_sort.duplicated(['scientific_name'], keep=False)]\n",
    "print(duplicates)"
   ]
  },
  {
   "cell_type": "code",
   "execution_count": 12,
   "metadata": {},
   "outputs": [
    {
     "name": "stdout",
     "output_type": "stream",
     "text": [
      "                            common_name          scientific_name MLE_combined  \\\n",
      "355  Spider, Sapphire Ornamental Spider  Poecilotheria metallica         13.1   \n",
      "\n",
      "    MLE_male MLE_female  \n",
      "355        -          -  \n"
     ]
    }
   ],
   "source": [
    "# I had to do some guess and check work to find the row with the spider and make sure the row that was saved was the one with\n",
    "# the MLE.\n",
    "print(mle_sort.loc[[355]])"
   ]
  },
  {
   "cell_type": "code",
   "execution_count": 13,
   "metadata": {},
   "outputs": [
    {
     "name": "stdout",
     "output_type": "stream",
     "text": [
      "                           common_name  scientific_name MLE_combined MLE_male  \\\n",
      "131  Frog, Panamanian Golden (Ahogado)  Atelopus zeteki          7.5        -   \n",
      "132     Frog, Panamanian Golden (Sora)  Atelopus zeteki            -      5.1   \n",
      "\n",
      "    MLE_female  \n",
      "131          -  \n",
      "132        4.2  \n"
     ]
    }
   ],
   "source": [
    "# One last check after dropping the row shows that I did get rid of all the duplicates.\n",
    "mle_no_dupes = mle_sort.drop([469])\n",
    "duplicates = mle_no_dupes[mle_no_dupes.duplicated(['scientific_name'], keep=False)]\n",
    "print(duplicates)"
   ]
  },
  {
   "cell_type": "code",
   "execution_count": 14,
   "metadata": {},
   "outputs": [
    {
     "data": {
      "text/plain": [
       "(473, 5)"
      ]
     },
     "execution_count": 14,
     "metadata": {},
     "output_type": "execute_result"
    }
   ],
   "source": [
    "mle_no_dupes.shape"
   ]
  },
  {
   "cell_type": "code",
   "execution_count": 15,
   "metadata": {},
   "outputs": [
    {
     "data": {
      "text/html": [
       "<div>\n",
       "<style scoped>\n",
       "    .dataframe tbody tr th:only-of-type {\n",
       "        vertical-align: middle;\n",
       "    }\n",
       "\n",
       "    .dataframe tbody tr th {\n",
       "        vertical-align: top;\n",
       "    }\n",
       "\n",
       "    .dataframe thead th {\n",
       "        text-align: right;\n",
       "    }\n",
       "</style>\n",
       "<table border=\"1\" class=\"dataframe\">\n",
       "  <thead>\n",
       "    <tr style=\"text-align: right;\">\n",
       "      <th></th>\n",
       "      <th>common_name</th>\n",
       "      <th>scientific_name</th>\n",
       "      <th>MLE_combined</th>\n",
       "      <th>MLE_male</th>\n",
       "      <th>MLE_female</th>\n",
       "    </tr>\n",
       "  </thead>\n",
       "  <tbody>\n",
       "    <tr>\n",
       "      <th>0</th>\n",
       "      <td>Aardvark</td>\n",
       "      <td>Orycteropus afer</td>\n",
       "      <td>-</td>\n",
       "      <td>NaN</td>\n",
       "      <td>11.5</td>\n",
       "    </tr>\n",
       "    <tr>\n",
       "      <th>1</th>\n",
       "      <td>Addax</td>\n",
       "      <td>Addax nasomaculatus</td>\n",
       "      <td>-</td>\n",
       "      <td>10.7</td>\n",
       "      <td>13.9</td>\n",
       "    </tr>\n",
       "    <tr>\n",
       "      <th>2</th>\n",
       "      <td>Agouti, Brazilian</td>\n",
       "      <td>Dasyprocta leporina</td>\n",
       "      <td>8.2</td>\n",
       "      <td>-</td>\n",
       "      <td>-</td>\n",
       "    </tr>\n",
       "    <tr>\n",
       "      <th>3</th>\n",
       "      <td>Alligator, Chinese</td>\n",
       "      <td>Alligator sinensis</td>\n",
       "      <td>25</td>\n",
       "      <td>-</td>\n",
       "      <td>-</td>\n",
       "    </tr>\n",
       "    <tr>\n",
       "      <th>4</th>\n",
       "      <td>Anoa, Lowland</td>\n",
       "      <td>Bubalus depressicornis</td>\n",
       "      <td>17.4</td>\n",
       "      <td>-</td>\n",
       "      <td>-</td>\n",
       "    </tr>\n",
       "    <tr>\n",
       "      <th>5</th>\n",
       "      <td>Anteater, Giant</td>\n",
       "      <td>Myrmecophaga tridactyla</td>\n",
       "      <td>19.2</td>\n",
       "      <td>-</td>\n",
       "      <td>-</td>\n",
       "    </tr>\n",
       "    <tr>\n",
       "      <th>6</th>\n",
       "      <td>Antelope, Roan</td>\n",
       "      <td>Hippotragus equinus</td>\n",
       "      <td>-</td>\n",
       "      <td>NaN</td>\n",
       "      <td>12.3</td>\n",
       "    </tr>\n",
       "    <tr>\n",
       "      <th>7</th>\n",
       "      <td>Antelope, Sable</td>\n",
       "      <td>Hippotragus niger</td>\n",
       "      <td>11</td>\n",
       "      <td>-</td>\n",
       "      <td>-</td>\n",
       "    </tr>\n",
       "    <tr>\n",
       "      <th>9</th>\n",
       "      <td>Aracari, Green</td>\n",
       "      <td>Pteroglossus viridis</td>\n",
       "      <td>7.9</td>\n",
       "      <td>-</td>\n",
       "      <td>-</td>\n",
       "    </tr>\n",
       "    <tr>\n",
       "      <th>10</th>\n",
       "      <td>Argus, Great</td>\n",
       "      <td>Argusianus argus</td>\n",
       "      <td>12.4</td>\n",
       "      <td>-</td>\n",
       "      <td>-</td>\n",
       "    </tr>\n",
       "  </tbody>\n",
       "</table>\n",
       "</div>"
      ],
      "text/plain": [
       "           common_name          scientific_name MLE_combined MLE_male  \\\n",
       "0             Aardvark         Orycteropus afer            -      NaN   \n",
       "1                Addax      Addax nasomaculatus            -     10.7   \n",
       "2    Agouti, Brazilian      Dasyprocta leporina          8.2        -   \n",
       "3   Alligator, Chinese       Alligator sinensis           25        -   \n",
       "4        Anoa, Lowland   Bubalus depressicornis         17.4        -   \n",
       "5      Anteater, Giant  Myrmecophaga tridactyla         19.2        -   \n",
       "6       Antelope, Roan      Hippotragus equinus            -      NaN   \n",
       "7      Antelope, Sable        Hippotragus niger           11        -   \n",
       "9       Aracari, Green     Pteroglossus viridis          7.9        -   \n",
       "10        Argus, Great         Argusianus argus         12.4        -   \n",
       "\n",
       "   MLE_female  \n",
       "0        11.5  \n",
       "1        13.9  \n",
       "2           -  \n",
       "3           -  \n",
       "4           -  \n",
       "5           -  \n",
       "6        12.3  \n",
       "7           -  \n",
       "9           -  \n",
       "10          -  "
      ]
     },
     "execution_count": 15,
     "metadata": {},
     "output_type": "execute_result"
    }
   ],
   "source": [
    "# I used dropna to drop all rows with at least 3 non-NA values. If a row only had two non-NA values that means it was missing\n",
    "# all of the MLE data.\n",
    "mle_final = mle_no_dupes.dropna(thresh = 3)\n",
    "mle_final.head(10)"
   ]
  },
  {
   "cell_type": "code",
   "execution_count": 16,
   "metadata": {},
   "outputs": [
    {
     "data": {
      "text/plain": [
       "(372, 5)"
      ]
     },
     "execution_count": 16,
     "metadata": {},
     "output_type": "execute_result"
    }
   ],
   "source": [
    "mle_final.shape"
   ]
  },
  {
   "cell_type": "markdown",
   "metadata": {},
   "source": [
    "The only other potentially problematic feature in this data is for the MLE for male elephants"
   ]
  },
  {
   "cell_type": "code",
   "execution_count": 17,
   "metadata": {},
   "outputs": [
    {
     "name": "stdout",
     "output_type": "stream",
     "text": [
      "           common_name     scientific_name MLE_combined       MLE_male  \\\n",
      "117  Elephant, African  Loxodonta africana            -  See Full Repo   \n",
      "118    Elephant, Asian     Elephas maximus            -  See Full Repo   \n",
      "\n",
      "    MLE_female  \n",
      "117       38.6  \n",
      "118       46.9  \n"
     ]
    }
   ],
   "source": [
    "print(mle_sort.loc[[117, 118]])"
   ]
  },
  {
   "cell_type": "markdown",
   "metadata": {},
   "source": [
    "There is apparently a report somewhere for the MLE for male African and Asian elephants. As of now, I'm going to treat those strings as if they are NaN values. I can't find the report anywhere but I work at an AZA facility so when I go back to work (I'm currently out of town) I'm going to ask around and see if there is more information somewhere that I can take a look at."
   ]
  },
  {
   "cell_type": "code",
   "execution_count": 18,
   "metadata": {},
   "outputs": [],
   "source": [
    "#Store clean dataframe as CSV\n",
    "mle_final.to_csv('dsc540_animalinfo.csv', index=False) "
   ]
  }
 ],
 "metadata": {
  "kernelspec": {
   "display_name": "Python 3",
   "language": "python",
   "name": "python3"
  },
  "language_info": {
   "codemirror_mode": {
    "name": "ipython",
    "version": 3
   },
   "file_extension": ".py",
   "mimetype": "text/x-python",
   "name": "python",
   "nbconvert_exporter": "python",
   "pygments_lexer": "ipython3",
   "version": "3.8.8"
  }
 },
 "nbformat": 4,
 "nbformat_minor": 4
}
