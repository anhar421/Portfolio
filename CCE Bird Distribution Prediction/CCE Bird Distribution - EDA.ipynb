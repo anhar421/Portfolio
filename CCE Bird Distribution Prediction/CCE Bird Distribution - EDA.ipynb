{
 "cells": [
  {
   "cell_type": "code",
   "execution_count": 2,
   "metadata": {},
   "outputs": [],
   "source": [
    "import pandas as pd \n",
    "%matplotlib inline \n",
    "import matplotlib.pyplot as plt\n",
    "import numpy as np\n",
    "import seaborn as sb"
   ]
  },
  {
   "cell_type": "code",
   "execution_count": 23,
   "metadata": {},
   "outputs": [],
   "source": [
    "# # # Import CSV\n",
    "# data = pd.read_csv('CEDdata.csv')"
   ]
  },
  {
   "cell_type": "code",
   "execution_count": 24,
   "metadata": {},
   "outputs": [],
   "source": [
    "# # Drop unnecessary columns\n",
    "# data = data.drop(['Source Url', 'Preferred Citation', 'Accessed Date', 'Record Number', 'Local Month', 'Month', 'Year'], axis=1)"
   ]
  },
  {
   "cell_type": "code",
   "execution_count": 25,
   "metadata": {},
   "outputs": [],
   "source": [
    "# data.head()"
   ]
  },
  {
   "cell_type": "code",
   "execution_count": 26,
   "metadata": {},
   "outputs": [],
   "source": [
    "# data.dtypes"
   ]
  },
  {
   "cell_type": "code",
   "execution_count": 27,
   "metadata": {},
   "outputs": [],
   "source": [
    "# # Rename columns\n",
    "# data.columns = ['st_code', 'trans_name', 'st_name', 'SPEC', 'segspec_ct', 'segdist_sums', 'area_sums', 'density', \n",
    "#                 'log_density', 'dec_lat', 'dec_long', 'distance', 'date']"
   ]
  },
  {
   "cell_type": "code",
   "execution_count": 28,
   "metadata": {},
   "outputs": [],
   "source": [
    "# # Get the list of individual group names\n",
    "# orig_names=orig_data['SPEC'].unique().tolist()"
   ]
  },
  {
   "cell_type": "code",
   "execution_count": 29,
   "metadata": {},
   "outputs": [],
   "source": [
    "# len(orig_names)"
   ]
  },
  {
   "cell_type": "code",
   "execution_count": 30,
   "metadata": {},
   "outputs": [],
   "source": [
    "# # Convert date column to datetime format\n",
    "# data['date'] = pd.to_datetime(data['date'])"
   ]
  },
  {
   "cell_type": "code",
   "execution_count": 31,
   "metadata": {},
   "outputs": [],
   "source": [
    "# data.head()"
   ]
  },
  {
   "cell_type": "code",
   "execution_count": 32,
   "metadata": {},
   "outputs": [],
   "source": [
    "# len(data)"
   ]
  },
  {
   "cell_type": "code",
   "execution_count": 33,
   "metadata": {},
   "outputs": [],
   "source": [
    "# data.dtypes"
   ]
  },
  {
   "cell_type": "code",
   "execution_count": 34,
   "metadata": {},
   "outputs": [],
   "source": [
    "# # Check for NaNs\n",
    "# data.isnull().values.any()"
   ]
  },
  {
   "cell_type": "code",
   "execution_count": 35,
   "metadata": {},
   "outputs": [],
   "source": [
    "# # Save smaller dataframe to CSV for use in PowerBI\n",
    "# data.to_csv(r'CEDdata_clean.csv', index=False)"
   ]
  },
  {
   "cell_type": "code",
   "execution_count": 36,
   "metadata": {},
   "outputs": [],
   "source": [
    "# # Get list of species codes\n",
    "# list_of_species = data['SPEC'].to_list()"
   ]
  },
  {
   "cell_type": "code",
   "execution_count": 37,
   "metadata": {},
   "outputs": [],
   "source": [
    "# # Remove duplicates\n",
    "# list_of_species = list(set(list_of_species))"
   ]
  },
  {
   "cell_type": "code",
   "execution_count": 38,
   "metadata": {},
   "outputs": [],
   "source": [
    "# list_of_species"
   ]
  },
  {
   "cell_type": "code",
   "execution_count": 39,
   "metadata": {},
   "outputs": [],
   "source": [
    "# len(list_of_species)"
   ]
  },
  {
   "cell_type": "code",
   "execution_count": 40,
   "metadata": {},
   "outputs": [],
   "source": [
    "# # Turn list into dataframe\n",
    "# ced_species = pd.DataFrame(list_of_species, columns=['SPEC'])"
   ]
  },
  {
   "cell_type": "code",
   "execution_count": 59,
   "metadata": {},
   "outputs": [
    {
     "data": {
      "text/html": [
       "<div>\n",
       "<style scoped>\n",
       "    .dataframe tbody tr th:only-of-type {\n",
       "        vertical-align: middle;\n",
       "    }\n",
       "\n",
       "    .dataframe tbody tr th {\n",
       "        vertical-align: top;\n",
       "    }\n",
       "\n",
       "    .dataframe thead th {\n",
       "        text-align: right;\n",
       "    }\n",
       "</style>\n",
       "<table border=\"1\" class=\"dataframe\">\n",
       "  <thead>\n",
       "    <tr style=\"text-align: right;\">\n",
       "      <th></th>\n",
       "      <th>SPEC</th>\n",
       "      <th>COMMONNAME</th>\n",
       "      <th>SCINAME</th>\n",
       "    </tr>\n",
       "  </thead>\n",
       "  <tbody>\n",
       "    <tr>\n",
       "      <th>0</th>\n",
       "      <td>CAGU</td>\n",
       "      <td>California Gull</td>\n",
       "      <td>Larus californicus</td>\n",
       "    </tr>\n",
       "    <tr>\n",
       "      <th>1</th>\n",
       "      <td>PFSH</td>\n",
       "      <td>Pink-footed Shearwater</td>\n",
       "      <td>Ardenna creatopus</td>\n",
       "    </tr>\n",
       "    <tr>\n",
       "      <th>2</th>\n",
       "      <td>FTSP</td>\n",
       "      <td>Fork-tailed Storm-Petrel</td>\n",
       "      <td>Hydrobates furcatus</td>\n",
       "    </tr>\n",
       "    <tr>\n",
       "      <th>3</th>\n",
       "      <td>TOWA</td>\n",
       "      <td>Townsend's Warbler</td>\n",
       "      <td>Setophaga townsendi</td>\n",
       "    </tr>\n",
       "    <tr>\n",
       "      <th>4</th>\n",
       "      <td>BRAC</td>\n",
       "      <td>Brandt's Cormorant</td>\n",
       "      <td>Phalacrocorax penicillatus</td>\n",
       "    </tr>\n",
       "    <tr>\n",
       "      <th>5</th>\n",
       "      <td>UNGO</td>\n",
       "      <td>Unidentified Goose</td>\n",
       "      <td>Anserinae (gen. sp.)</td>\n",
       "    </tr>\n",
       "    <tr>\n",
       "      <th>6</th>\n",
       "      <td>WWSC</td>\n",
       "      <td>White-winged Scoter</td>\n",
       "      <td>Melanitta deglandi</td>\n",
       "    </tr>\n",
       "    <tr>\n",
       "      <th>7</th>\n",
       "      <td>UNSP</td>\n",
       "      <td>Unidentified Sparrow</td>\n",
       "      <td>Passerellidae (gen, sp)</td>\n",
       "    </tr>\n",
       "    <tr>\n",
       "      <th>8</th>\n",
       "      <td>BLBR</td>\n",
       "      <td>Black Brant</td>\n",
       "      <td>Branta bernicula nigricans</td>\n",
       "    </tr>\n",
       "    <tr>\n",
       "      <th>9</th>\n",
       "      <td>RHAU</td>\n",
       "      <td>Rhinoceros Auklet</td>\n",
       "      <td>Cerorhinca monocerata</td>\n",
       "    </tr>\n",
       "    <tr>\n",
       "      <th>10</th>\n",
       "      <td>COLO</td>\n",
       "      <td>Common Loon</td>\n",
       "      <td>Gavia immer</td>\n",
       "    </tr>\n",
       "    <tr>\n",
       "      <th>11</th>\n",
       "      <td>WEGR</td>\n",
       "      <td>Western Grebe</td>\n",
       "      <td>Aechmophorus occidentalis</td>\n",
       "    </tr>\n",
       "    <tr>\n",
       "      <th>12</th>\n",
       "      <td>RNPH</td>\n",
       "      <td>Red-necked Phalarope</td>\n",
       "      <td>Phalaropus lobatus</td>\n",
       "    </tr>\n",
       "    <tr>\n",
       "      <th>13</th>\n",
       "      <td>BFAL</td>\n",
       "      <td>Black-footed Albatross</td>\n",
       "      <td>Phoebastria nigripes</td>\n",
       "    </tr>\n",
       "    <tr>\n",
       "      <th>14</th>\n",
       "      <td>POJA</td>\n",
       "      <td>Pomarine Jaeger</td>\n",
       "      <td>Stercorarius pomarinus</td>\n",
       "    </tr>\n",
       "    <tr>\n",
       "      <th>15</th>\n",
       "      <td>TUPU</td>\n",
       "      <td>Tufted Puffin</td>\n",
       "      <td>Fratercula cirrhata</td>\n",
       "    </tr>\n",
       "    <tr>\n",
       "      <th>16</th>\n",
       "      <td>UNDU</td>\n",
       "      <td>Unidentified Duck</td>\n",
       "      <td>Anatinae (gen, sp)</td>\n",
       "    </tr>\n",
       "    <tr>\n",
       "      <th>17</th>\n",
       "      <td>LESP</td>\n",
       "      <td>Leach's Storm-Petrel</td>\n",
       "      <td>Hydrobates leucorhous</td>\n",
       "    </tr>\n",
       "    <tr>\n",
       "      <th>18</th>\n",
       "      <td>GWGU</td>\n",
       "      <td>Glaucous-winged Gull</td>\n",
       "      <td>Larus glaucescens</td>\n",
       "    </tr>\n",
       "    <tr>\n",
       "      <th>19</th>\n",
       "      <td>RTLO</td>\n",
       "      <td>Red-throated Loon</td>\n",
       "      <td>Gavia stellata</td>\n",
       "    </tr>\n",
       "    <tr>\n",
       "      <th>20</th>\n",
       "      <td>SOSH</td>\n",
       "      <td>Sooty Shearwater</td>\n",
       "      <td>Ardenna grisea</td>\n",
       "    </tr>\n",
       "    <tr>\n",
       "      <th>21</th>\n",
       "      <td>WEGU</td>\n",
       "      <td>Western Gull</td>\n",
       "      <td>Larus occidentalis</td>\n",
       "    </tr>\n",
       "    <tr>\n",
       "      <th>22</th>\n",
       "      <td>CAAU</td>\n",
       "      <td>Cassin's Auklet</td>\n",
       "      <td>Ptychoramphus aleuticus</td>\n",
       "    </tr>\n",
       "    <tr>\n",
       "      <th>23</th>\n",
       "      <td>CATE</td>\n",
       "      <td>Caspian Tern</td>\n",
       "      <td>Hydroprogne caspia</td>\n",
       "    </tr>\n",
       "    <tr>\n",
       "      <th>24</th>\n",
       "      <td>HEEG</td>\n",
       "      <td>Heermann's Gull</td>\n",
       "      <td>Larus heermanni</td>\n",
       "    </tr>\n",
       "    <tr>\n",
       "      <th>25</th>\n",
       "      <td>SHSP</td>\n",
       "      <td>Stripe-headed Sparrow</td>\n",
       "      <td>Peucaea ruficauda</td>\n",
       "    </tr>\n",
       "    <tr>\n",
       "      <th>26</th>\n",
       "      <td>PALO</td>\n",
       "      <td>Pacific Loon</td>\n",
       "      <td>Gavia pacifica</td>\n",
       "    </tr>\n",
       "    <tr>\n",
       "      <th>27</th>\n",
       "      <td>GRSC</td>\n",
       "      <td>Greater Scaup</td>\n",
       "      <td>Aythya marila</td>\n",
       "    </tr>\n",
       "    <tr>\n",
       "      <th>28</th>\n",
       "      <td>SAGU</td>\n",
       "      <td>Sabine's Gull</td>\n",
       "      <td>Xema sabini</td>\n",
       "    </tr>\n",
       "    <tr>\n",
       "      <th>29</th>\n",
       "      <td>BRPE</td>\n",
       "      <td>Brown Pelican</td>\n",
       "      <td>Pelecanus occidentalis</td>\n",
       "    </tr>\n",
       "    <tr>\n",
       "      <th>30</th>\n",
       "      <td>PAJA</td>\n",
       "      <td>Parasitic Jaeger</td>\n",
       "      <td>Stercorarius parasiticus</td>\n",
       "    </tr>\n",
       "    <tr>\n",
       "      <th>31</th>\n",
       "      <td>REPH</td>\n",
       "      <td>Red Phalarope</td>\n",
       "      <td>Phalaropus fulicarius</td>\n",
       "    </tr>\n",
       "    <tr>\n",
       "      <th>32</th>\n",
       "      <td>PECO</td>\n",
       "      <td>Pelagic Cormorant</td>\n",
       "      <td>Phalacrocorax pelagicus</td>\n",
       "    </tr>\n",
       "    <tr>\n",
       "      <th>33</th>\n",
       "      <td>SUSC</td>\n",
       "      <td>Surf Scoter</td>\n",
       "      <td>Melanitta perspicillata</td>\n",
       "    </tr>\n",
       "    <tr>\n",
       "      <th>34</th>\n",
       "      <td>PAAU</td>\n",
       "      <td>Parakeet Auklet</td>\n",
       "      <td>Aethia psittacula</td>\n",
       "    </tr>\n",
       "    <tr>\n",
       "      <th>35</th>\n",
       "      <td>COTE</td>\n",
       "      <td>Common Tern</td>\n",
       "      <td>Sterna hirundo</td>\n",
       "    </tr>\n",
       "    <tr>\n",
       "      <th>36</th>\n",
       "      <td>COMU</td>\n",
       "      <td>Common Murre</td>\n",
       "      <td>Uria aalge</td>\n",
       "    </tr>\n",
       "    <tr>\n",
       "      <th>37</th>\n",
       "      <td>BOGU</td>\n",
       "      <td>Bonaparte's Gull</td>\n",
       "      <td>Chroicocephalus philadelphia</td>\n",
       "    </tr>\n",
       "    <tr>\n",
       "      <th>38</th>\n",
       "      <td>RBME</td>\n",
       "      <td>Red-breasted Merganser</td>\n",
       "      <td>Mergus serrator</td>\n",
       "    </tr>\n",
       "    <tr>\n",
       "      <th>39</th>\n",
       "      <td>GBHE</td>\n",
       "      <td>Great Blue Heron</td>\n",
       "      <td>Ardea herodias</td>\n",
       "    </tr>\n",
       "    <tr>\n",
       "      <th>40</th>\n",
       "      <td>ARTE</td>\n",
       "      <td>Arctic Tern</td>\n",
       "      <td>Sterna paradisaea</td>\n",
       "    </tr>\n",
       "    <tr>\n",
       "      <th>41</th>\n",
       "      <td>RBGU</td>\n",
       "      <td>Ring-billed Gull</td>\n",
       "      <td>Larus delawarensis</td>\n",
       "    </tr>\n",
       "    <tr>\n",
       "      <th>42</th>\n",
       "      <td>PIGU</td>\n",
       "      <td>Pigeon Guillemot</td>\n",
       "      <td>Cepphus columba</td>\n",
       "    </tr>\n",
       "    <tr>\n",
       "      <th>43</th>\n",
       "      <td>HADU</td>\n",
       "      <td>Harlequin Duck</td>\n",
       "      <td>Histrionicus histrionicus</td>\n",
       "    </tr>\n",
       "    <tr>\n",
       "      <th>44</th>\n",
       "      <td>UNDO</td>\n",
       "      <td>Unidentified Dowitcher</td>\n",
       "      <td>Limnodromus sp.</td>\n",
       "    </tr>\n",
       "    <tr>\n",
       "      <th>45</th>\n",
       "      <td>DCCO</td>\n",
       "      <td>Double-crested Cormorant</td>\n",
       "      <td>Phalacrocorax auritus</td>\n",
       "    </tr>\n",
       "    <tr>\n",
       "      <th>46</th>\n",
       "      <td>NOFU</td>\n",
       "      <td>Northern Fulmar</td>\n",
       "      <td>Fulmarus glacialis</td>\n",
       "    </tr>\n",
       "    <tr>\n",
       "      <th>47</th>\n",
       "      <td>ANMU</td>\n",
       "      <td>Ancient Murrelet</td>\n",
       "      <td>Synthliboramphus antiquus</td>\n",
       "    </tr>\n",
       "    <tr>\n",
       "      <th>48</th>\n",
       "      <td>BRAN</td>\n",
       "      <td>Brant</td>\n",
       "      <td>Branta bernicla</td>\n",
       "    </tr>\n",
       "    <tr>\n",
       "      <th>49</th>\n",
       "      <td>SPSK</td>\n",
       "      <td>South Polar Skua</td>\n",
       "      <td>Stercorarius maccormicki</td>\n",
       "    </tr>\n",
       "    <tr>\n",
       "      <th>50</th>\n",
       "      <td>MAMU</td>\n",
       "      <td>Marbled Murrelet</td>\n",
       "      <td>Brachyramphus marmoratus</td>\n",
       "    </tr>\n",
       "  </tbody>\n",
       "</table>\n",
       "</div>"
      ],
      "text/plain": [
       "    SPEC                COMMONNAME                       SCINAME\n",
       "0   CAGU           California Gull            Larus californicus\n",
       "1   PFSH    Pink-footed Shearwater             Ardenna creatopus\n",
       "2   FTSP  Fork-tailed Storm-Petrel           Hydrobates furcatus\n",
       "3   TOWA        Townsend's Warbler           Setophaga townsendi\n",
       "4   BRAC        Brandt's Cormorant    Phalacrocorax penicillatus\n",
       "5   UNGO        Unidentified Goose          Anserinae (gen. sp.)\n",
       "6   WWSC       White-winged Scoter            Melanitta deglandi\n",
       "7   UNSP      Unidentified Sparrow       Passerellidae (gen, sp)\n",
       "8   BLBR               Black Brant    Branta bernicula nigricans\n",
       "9   RHAU         Rhinoceros Auklet         Cerorhinca monocerata\n",
       "10  COLO               Common Loon                   Gavia immer\n",
       "11  WEGR             Western Grebe     Aechmophorus occidentalis\n",
       "12  RNPH      Red-necked Phalarope            Phalaropus lobatus\n",
       "13  BFAL    Black-footed Albatross          Phoebastria nigripes\n",
       "14  POJA           Pomarine Jaeger        Stercorarius pomarinus\n",
       "15  TUPU             Tufted Puffin           Fratercula cirrhata\n",
       "16  UNDU         Unidentified Duck            Anatinae (gen, sp)\n",
       "17  LESP      Leach's Storm-Petrel         Hydrobates leucorhous\n",
       "18  GWGU      Glaucous-winged Gull             Larus glaucescens\n",
       "19  RTLO         Red-throated Loon                Gavia stellata\n",
       "20  SOSH          Sooty Shearwater                Ardenna grisea\n",
       "21  WEGU              Western Gull            Larus occidentalis\n",
       "22  CAAU           Cassin's Auklet       Ptychoramphus aleuticus\n",
       "23  CATE              Caspian Tern            Hydroprogne caspia\n",
       "24  HEEG           Heermann's Gull               Larus heermanni\n",
       "25  SHSP     Stripe-headed Sparrow             Peucaea ruficauda\n",
       "26  PALO              Pacific Loon                Gavia pacifica\n",
       "27  GRSC             Greater Scaup                 Aythya marila\n",
       "28  SAGU             Sabine's Gull                   Xema sabini\n",
       "29  BRPE             Brown Pelican        Pelecanus occidentalis\n",
       "30  PAJA          Parasitic Jaeger      Stercorarius parasiticus\n",
       "31  REPH             Red Phalarope         Phalaropus fulicarius\n",
       "32  PECO         Pelagic Cormorant       Phalacrocorax pelagicus\n",
       "33  SUSC               Surf Scoter       Melanitta perspicillata\n",
       "34  PAAU           Parakeet Auklet             Aethia psittacula\n",
       "35  COTE               Common Tern                Sterna hirundo\n",
       "36  COMU              Common Murre                    Uria aalge\n",
       "37  BOGU          Bonaparte's Gull  Chroicocephalus philadelphia\n",
       "38  RBME    Red-breasted Merganser               Mergus serrator\n",
       "39  GBHE          Great Blue Heron                Ardea herodias\n",
       "40  ARTE               Arctic Tern             Sterna paradisaea\n",
       "41  RBGU          Ring-billed Gull            Larus delawarensis\n",
       "42  PIGU          Pigeon Guillemot               Cepphus columba\n",
       "43  HADU            Harlequin Duck     Histrionicus histrionicus\n",
       "44  UNDO    Unidentified Dowitcher               Limnodromus sp.\n",
       "45  DCCO  Double-crested Cormorant         Phalacrocorax auritus\n",
       "46  NOFU           Northern Fulmar            Fulmarus glacialis\n",
       "47  ANMU          Ancient Murrelet     Synthliboramphus antiquus\n",
       "48  BRAN                     Brant               Branta bernicla\n",
       "49  SPSK          South Polar Skua      Stercorarius maccormicki\n",
       "50  MAMU          Marbled Murrelet      Brachyramphus marmoratus"
      ]
     },
     "execution_count": 59,
     "metadata": {},
     "output_type": "execute_result"
    }
   ],
   "source": [
    "ced_species.head(55)"
   ]
  },
  {
   "cell_type": "code",
   "execution_count": 42,
   "metadata": {},
   "outputs": [],
   "source": [
    "# len(ced_species)"
   ]
  },
  {
   "cell_type": "code",
   "execution_count": 43,
   "metadata": {},
   "outputs": [],
   "source": [
    "# # Import bird codes from CSV. Original source https://www.birdpop.org/pages/birdSpeciesCodes.php . Note that the species codes\n",
    "# # represented in the CED data are for more than just birds. Codebook information needs to be found for the other codes.\n",
    "# bird_codes = pd.read_csv('IBP-Alpha-Codes20.csv')"
   ]
  },
  {
   "cell_type": "code",
   "execution_count": 44,
   "metadata": {},
   "outputs": [],
   "source": [
    "# bird_codes.head()"
   ]
  },
  {
   "cell_type": "code",
   "execution_count": 45,
   "metadata": {},
   "outputs": [],
   "source": [
    "# # Drop the 6 -letter codes and related information as well as empty columns\n",
    "# bird_codes = bird_codes.drop(['SP', 'CONF', 'SPEC6', 'CONF6'], axis=1)"
   ]
  },
  {
   "cell_type": "code",
   "execution_count": 46,
   "metadata": {},
   "outputs": [],
   "source": [
    "# bird_codes.head()"
   ]
  },
  {
   "cell_type": "code",
   "execution_count": 47,
   "metadata": {},
   "outputs": [],
   "source": [
    "# len(bird_codes)"
   ]
  },
  {
   "cell_type": "code",
   "execution_count": 48,
   "metadata": {},
   "outputs": [],
   "source": [
    "# # Merge dataframes\n",
    "# ced_species = ced_species.merge(bird_codes, on='SPEC')"
   ]
  },
  {
   "cell_type": "code",
   "execution_count": 49,
   "metadata": {},
   "outputs": [],
   "source": [
    "# len(ced_species)"
   ]
  },
  {
   "cell_type": "code",
   "execution_count": 56,
   "metadata": {},
   "outputs": [],
   "source": [
    "# ced_species.head(50)"
   ]
  },
  {
   "cell_type": "code",
   "execution_count": 51,
   "metadata": {},
   "outputs": [],
   "source": [
    "# data = data.merge(ced_species, on='SPEC')"
   ]
  },
  {
   "cell_type": "code",
   "execution_count": 18,
   "metadata": {},
   "outputs": [],
   "source": [
    "# len(data)"
   ]
  },
  {
   "cell_type": "code",
   "execution_count": 53,
   "metadata": {},
   "outputs": [],
   "source": [
    "# # Save smaller dataframe to CSV for use in PowerBI\n",
    "# data.to_csv(r'CEDdata_smol.csv', index=False)"
   ]
  },
  {
   "cell_type": "code",
   "execution_count": 3,
   "metadata": {},
   "outputs": [],
   "source": [
    "# Import CSV\n",
    "data = pd.read_csv('CEDdata_smol.csv')"
   ]
  },
  {
   "cell_type": "code",
   "execution_count": 4,
   "metadata": {},
   "outputs": [
    {
     "data": {
      "text/html": [
       "<div>\n",
       "<style scoped>\n",
       "    .dataframe tbody tr th:only-of-type {\n",
       "        vertical-align: middle;\n",
       "    }\n",
       "\n",
       "    .dataframe tbody tr th {\n",
       "        vertical-align: top;\n",
       "    }\n",
       "\n",
       "    .dataframe thead th {\n",
       "        text-align: right;\n",
       "    }\n",
       "</style>\n",
       "<table border=\"1\" class=\"dataframe\">\n",
       "  <thead>\n",
       "    <tr style=\"text-align: right;\">\n",
       "      <th></th>\n",
       "      <th>trans_name</th>\n",
       "      <th>st_name</th>\n",
       "      <th>SPEC</th>\n",
       "      <th>segspec_ct</th>\n",
       "      <th>segdist_sums</th>\n",
       "      <th>area_sums</th>\n",
       "      <th>density</th>\n",
       "      <th>log_density</th>\n",
       "      <th>dec_lat</th>\n",
       "      <th>dec_long</th>\n",
       "      <th>distance</th>\n",
       "      <th>date</th>\n",
       "    </tr>\n",
       "  </thead>\n",
       "  <tbody>\n",
       "    <tr>\n",
       "      <th>0</th>\n",
       "      <td>CR</td>\n",
       "      <td>CR20</td>\n",
       "      <td>POJA</td>\n",
       "      <td>0</td>\n",
       "      <td>8.117538</td>\n",
       "      <td>2.435261</td>\n",
       "      <td>0.0</td>\n",
       "      <td>0.0</td>\n",
       "      <td>46.163916</td>\n",
       "      <td>-124.453083</td>\n",
       "      <td>20</td>\n",
       "      <td>5/21/2003</td>\n",
       "    </tr>\n",
       "    <tr>\n",
       "      <th>1</th>\n",
       "      <td>CR</td>\n",
       "      <td>CR15</td>\n",
       "      <td>POJA</td>\n",
       "      <td>0</td>\n",
       "      <td>26.839530</td>\n",
       "      <td>8.051859</td>\n",
       "      <td>0.0</td>\n",
       "      <td>0.0</td>\n",
       "      <td>46.159334</td>\n",
       "      <td>-124.341831</td>\n",
       "      <td>15</td>\n",
       "      <td>5/21/2003</td>\n",
       "    </tr>\n",
       "    <tr>\n",
       "      <th>2</th>\n",
       "      <td>GH</td>\n",
       "      <td>GH06</td>\n",
       "      <td>POJA</td>\n",
       "      <td>0</td>\n",
       "      <td>10.340468</td>\n",
       "      <td>3.102140</td>\n",
       "      <td>0.0</td>\n",
       "      <td>0.0</td>\n",
       "      <td>47.004917</td>\n",
       "      <td>-124.329082</td>\n",
       "      <td>6</td>\n",
       "      <td>5/22/2003</td>\n",
       "    </tr>\n",
       "    <tr>\n",
       "      <th>3</th>\n",
       "      <td>GH</td>\n",
       "      <td>GH16</td>\n",
       "      <td>POJA</td>\n",
       "      <td>0</td>\n",
       "      <td>10.415742</td>\n",
       "      <td>3.124723</td>\n",
       "      <td>0.0</td>\n",
       "      <td>0.0</td>\n",
       "      <td>46.994583</td>\n",
       "      <td>-124.557667</td>\n",
       "      <td>16</td>\n",
       "      <td>5/22/2003</td>\n",
       "    </tr>\n",
       "    <tr>\n",
       "      <th>4</th>\n",
       "      <td>GH</td>\n",
       "      <td>GH21</td>\n",
       "      <td>POJA</td>\n",
       "      <td>0</td>\n",
       "      <td>9.750250</td>\n",
       "      <td>2.925075</td>\n",
       "      <td>0.0</td>\n",
       "      <td>0.0</td>\n",
       "      <td>46.991833</td>\n",
       "      <td>-124.695415</td>\n",
       "      <td>21</td>\n",
       "      <td>5/22/2003</td>\n",
       "    </tr>\n",
       "  </tbody>\n",
       "</table>\n",
       "</div>"
      ],
      "text/plain": [
       "  trans_name st_name  SPEC  segspec_ct  segdist_sums  area_sums  density  \\\n",
       "0         CR    CR20  POJA           0      8.117538   2.435261      0.0   \n",
       "1         CR    CR15  POJA           0     26.839530   8.051859      0.0   \n",
       "2         GH    GH06  POJA           0     10.340468   3.102140      0.0   \n",
       "3         GH    GH16  POJA           0     10.415742   3.124723      0.0   \n",
       "4         GH    GH21  POJA           0      9.750250   2.925075      0.0   \n",
       "\n",
       "   log_density    dec_lat    dec_long  distance       date  \n",
       "0          0.0  46.163916 -124.453083        20  5/21/2003  \n",
       "1          0.0  46.159334 -124.341831        15  5/21/2003  \n",
       "2          0.0  47.004917 -124.329082         6  5/22/2003  \n",
       "3          0.0  46.994583 -124.557667        16  5/22/2003  \n",
       "4          0.0  46.991833 -124.695415        21  5/22/2003  "
      ]
     },
     "execution_count": 4,
     "metadata": {},
     "output_type": "execute_result"
    }
   ],
   "source": [
    "data.head()"
   ]
  },
  {
   "cell_type": "code",
   "execution_count": 6,
   "metadata": {},
   "outputs": [],
   "source": [
    "# Sort the dataframe by station name\n",
    "data.reset_index(inplace=True, drop=True)\n",
    "data.sort_values(by='st_name', axis=0, inplace=True)\n",
    "data.reset_index(inplace=True, drop=True)\n",
    "\n",
    "# Set the index to station name and don't drop it\n",
    "data.set_index(keys=['st_name'], drop=False,inplace=True)\n",
    "\n",
    "# Get the list of individual station names\n",
    "names=data['st_name'].unique().tolist()\n",
    "\n",
    "# Change date to datetime\n",
    "data['date'] = pd.to_datetime(data['date'])"
   ]
  },
  {
   "cell_type": "code",
   "execution_count": 8,
   "metadata": {},
   "outputs": [
    {
     "data": {
      "text/plain": [
       "53"
      ]
     },
     "execution_count": 8,
     "metadata": {},
     "output_type": "execute_result"
    }
   ],
   "source": [
    "len(names)"
   ]
  },
  {
   "cell_type": "code",
   "execution_count": 21,
   "metadata": {},
   "outputs": [],
   "source": [
    "# Get the list of surveying transects\n",
    "trans=data['trans_name'].unique().tolist()"
   ]
  },
  {
   "cell_type": "code",
   "execution_count": 22,
   "metadata": {},
   "outputs": [
    {
     "data": {
      "text/plain": [
       "9"
      ]
     },
     "execution_count": 22,
     "metadata": {},
     "output_type": "execute_result"
    }
   ],
   "source": [
    "len(trans)"
   ]
  },
  {
   "cell_type": "code",
   "execution_count": 9,
   "metadata": {},
   "outputs": [],
   "source": [
    "# Get the list of bird species\n",
    "species=data['SPEC'].unique().tolist()"
   ]
  },
  {
   "cell_type": "code",
   "execution_count": 10,
   "metadata": {},
   "outputs": [
    {
     "data": {
      "text/plain": [
       "51"
      ]
     },
     "execution_count": 10,
     "metadata": {},
     "output_type": "execute_result"
    }
   ],
   "source": [
    "len(species)"
   ]
  },
  {
   "cell_type": "code",
   "execution_count": 14,
   "metadata": {},
   "outputs": [],
   "source": [
    "# Create dataframe dictionary with dataframes for each station\n",
    "DataFrameDict_station = {elem : pd.DataFrame for elem in names}\n",
    "\n",
    "for key in DataFrameDict_station.keys():\n",
    "    DataFrameDict_station[key] = data[:][data.st_name == key]"
   ]
  },
  {
   "cell_type": "code",
   "execution_count": 15,
   "metadata": {},
   "outputs": [],
   "source": [
    "# Create dataframe dictionary with dataframes for each station\n",
    "DataFrameDict_species = {elem : pd.DataFrame for elem in species}\n",
    "\n",
    "for key in DataFrameDict_species.keys():\n",
    "    DataFrameDict_species[key] = data[:][data.SPEC == key]"
   ]
  },
  {
   "cell_type": "code",
   "execution_count": 11,
   "metadata": {},
   "outputs": [],
   "source": [
    "# Can access individual dataframes for each station\n",
    "# DataFrameDict['CR20']"
   ]
  },
  {
   "cell_type": "code",
   "execution_count": 17,
   "metadata": {},
   "outputs": [],
   "source": [
    "comu = DataFrameDict_species['COMU']\n",
    "sosh = DataFrameDict_species['SOSH']"
   ]
  },
  {
   "cell_type": "code",
   "execution_count": 19,
   "metadata": {},
   "outputs": [
    {
     "data": {
      "text/plain": [
       "(653, 12)"
      ]
     },
     "execution_count": 19,
     "metadata": {},
     "output_type": "execute_result"
    }
   ],
   "source": [
    "comu.shape"
   ]
  },
  {
   "cell_type": "code",
   "execution_count": 20,
   "metadata": {},
   "outputs": [
    {
     "data": {
      "text/plain": [
       "(653, 12)"
      ]
     },
     "execution_count": 20,
     "metadata": {},
     "output_type": "execute_result"
    }
   ],
   "source": [
    "sosh.shape"
   ]
  },
  {
   "cell_type": "code",
   "execution_count": null,
   "metadata": {},
   "outputs": [],
   "source": []
  }
 ],
 "metadata": {
  "kernelspec": {
   "display_name": "Python 3",
   "language": "python",
   "name": "python3"
  },
  "language_info": {
   "codemirror_mode": {
    "name": "ipython",
    "version": 3
   },
   "file_extension": ".py",
   "mimetype": "text/x-python",
   "name": "python",
   "nbconvert_exporter": "python",
   "pygments_lexer": "ipython3",
   "version": "3.7.6"
  }
 },
 "nbformat": 4,
 "nbformat_minor": 4
}
